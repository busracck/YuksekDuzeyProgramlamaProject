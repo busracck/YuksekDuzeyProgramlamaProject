{
 "cells": [
  {
   "cell_type": "code",
   "execution_count": 1,
   "id": "c8ad75f8",
   "metadata": {
    "_cell_guid": "b1076dfc-b9ad-4769-8c92-a6c4dae69d19",
    "_uuid": "8f2839f25d086af736a60e9eeb907d3b93b6e0e5",
    "execution": {
     "iopub.execute_input": "2024-11-27T09:38:52.066044Z",
     "iopub.status.busy": "2024-11-27T09:38:52.065610Z",
     "iopub.status.idle": "2024-11-27T09:38:52.961379Z",
     "shell.execute_reply": "2024-11-27T09:38:52.959960Z"
    },
    "papermill": {
     "duration": 0.907449,
     "end_time": "2024-11-27T09:38:52.963863",
     "exception": false,
     "start_time": "2024-11-27T09:38:52.056414",
     "status": "completed"
    },
    "tags": []
   },
   "outputs": [
    {
     "name": "stdout",
     "output_type": "stream",
     "text": [
      "/kaggle/input/predict-future-sales/items.csv\n",
      "/kaggle/input/predict-future-sales/sample_submission.csv\n",
      "/kaggle/input/predict-future-sales/item_categories.csv\n",
      "/kaggle/input/predict-future-sales/sales_train.csv\n",
      "/kaggle/input/predict-future-sales/shops.csv\n",
      "/kaggle/input/predict-future-sales/test.csv\n"
     ]
    }
   ],
   "source": [
    "# This Python 3 environment comes with many helpful analytics libraries installed\n",
    "# It is defined by the kaggle/python Docker image: https://github.com/kaggle/docker-python\n",
    "# For example, here's several helpful packages to load\n",
    "\n",
    "import numpy as np # linear algebra\n",
    "import pandas as pd # data processing, CSV file I/O (e.g. pd.read_csv)\n",
    "\n",
    "# Input data files are available in the read-only \"../input/\" directory\n",
    "# For example, running this (by clicking run or pressing Shift+Enter) will list all files under the input directory\n",
    "\n",
    "import os\n",
    "for dirname, _, filenames in os.walk('/kaggle/input'):\n",
    "    for filename in filenames:\n",
    "        print(os.path.join(dirname, filename))\n",
    "\n",
    "# You can write up to 20GB to the current directory (/kaggle/working/) that gets preserved as output when you create a version using \"Save & Run All\" \n",
    "# You can also write temporary files to /kaggle/temp/, but they won't be saved outside of the current session"
   ]
  },
  {
   "cell_type": "code",
   "execution_count": 2,
   "id": "ddea6d71",
   "metadata": {
    "execution": {
     "iopub.execute_input": "2024-11-27T09:38:52.978233Z",
     "iopub.status.busy": "2024-11-27T09:38:52.977682Z",
     "iopub.status.idle": "2024-11-27T09:38:53.461274Z",
     "shell.execute_reply": "2024-11-27T09:38:53.460006Z"
    },
    "papermill": {
     "duration": 0.493574,
     "end_time": "2024-11-27T09:38:53.463855",
     "exception": false,
     "start_time": "2024-11-27T09:38:52.970281",
     "status": "completed"
    },
    "tags": []
   },
   "outputs": [
    {
     "name": "stdout",
     "output_type": "stream",
     "text": [
      "Path to dataset files: /kaggle/input/predict-future-sales\n"
     ]
    }
   ],
   "source": [
    "import kagglehub\n",
    "\n",
    "# Download latest version\n",
    "path = kagglehub.dataset_download(\"atmadja/predict-future-sales\")\n",
    "\n",
    "print(\"Path to dataset files:\", path)"
   ]
  },
  {
   "cell_type": "code",
   "execution_count": 3,
   "id": "f9164712",
   "metadata": {
    "execution": {
     "iopub.execute_input": "2024-11-27T09:38:53.479285Z",
     "iopub.status.busy": "2024-11-27T09:38:53.478828Z",
     "iopub.status.idle": "2024-11-27T09:38:55.148931Z",
     "shell.execute_reply": "2024-11-27T09:38:55.147890Z"
    },
    "papermill": {
     "duration": 1.681493,
     "end_time": "2024-11-27T09:38:55.151773",
     "exception": false,
     "start_time": "2024-11-27T09:38:53.470280",
     "status": "completed"
    },
    "tags": []
   },
   "outputs": [],
   "source": [
    "import pandas as pd\n",
    "import numpy as np\n",
    "from sklearn.model_selection import train_test_split\n",
    "from sklearn.ensemble import RandomForestRegressor\n",
    "from sklearn.metrics import mean_squared_error"
   ]
  },
  {
   "cell_type": "code",
   "execution_count": 4,
   "id": "213f6802",
   "metadata": {
    "execution": {
     "iopub.execute_input": "2024-11-27T09:38:55.166421Z",
     "iopub.status.busy": "2024-11-27T09:38:55.165825Z",
     "iopub.status.idle": "2024-11-27T09:38:57.499916Z",
     "shell.execute_reply": "2024-11-27T09:38:57.498689Z"
    },
    "papermill": {
     "duration": 2.344178,
     "end_time": "2024-11-27T09:38:57.502475",
     "exception": false,
     "start_time": "2024-11-27T09:38:55.158297",
     "status": "completed"
    },
    "tags": []
   },
   "outputs": [],
   "source": [
    "import pandas as pd\n",
    "\n",
    "# Veriyi yükleyin\n",
    "sales_train = pd.read_csv('/kaggle/input/predict-future-sales/sales_train.csv')"
   ]
  },
  {
   "cell_type": "code",
   "execution_count": 5,
   "id": "47ff8983",
   "metadata": {
    "execution": {
     "iopub.execute_input": "2024-11-27T09:38:57.517985Z",
     "iopub.status.busy": "2024-11-27T09:38:57.517580Z",
     "iopub.status.idle": "2024-11-27T09:38:59.236296Z",
     "shell.execute_reply": "2024-11-27T09:38:59.234846Z"
    },
    "papermill": {
     "duration": 1.728767,
     "end_time": "2024-11-27T09:38:59.238732",
     "exception": false,
     "start_time": "2024-11-27T09:38:57.509965",
     "status": "completed"
    },
    "tags": []
   },
   "outputs": [],
   "source": [
    "item_categories = pd.read_csv('../input/predict-future-sales/item_categories.csv')\n",
    "items = pd.read_csv('../input/predict-future-sales/items.csv')\n",
    "sales_train = pd.read_csv('../input/predict-future-sales/sales_train.csv')\n",
    "test = pd.read_csv('../input/predict-future-sales/test.csv')\n",
    "shops = pd.read_csv('../input/predict-future-sales/shops.csv')"
   ]
  },
  {
   "cell_type": "code",
   "execution_count": 6,
   "id": "5a54f95a",
   "metadata": {
    "execution": {
     "iopub.execute_input": "2024-11-27T09:38:59.253484Z",
     "iopub.status.busy": "2024-11-27T09:38:59.253079Z",
     "iopub.status.idle": "2024-11-27T09:38:59.650409Z",
     "shell.execute_reply": "2024-11-27T09:38:59.648716Z"
    },
    "papermill": {
     "duration": 0.407609,
     "end_time": "2024-11-27T09:38:59.652998",
     "exception": false,
     "start_time": "2024-11-27T09:38:59.245389",
     "status": "completed"
    },
    "tags": []
   },
   "outputs": [],
   "source": [
    "sales_train['date'] = pd.to_datetime(sales_train['date'], format='%d.%m.%Y')"
   ]
  },
  {
   "cell_type": "code",
   "execution_count": 7,
   "id": "1b1823c0",
   "metadata": {
    "execution": {
     "iopub.execute_input": "2024-11-27T09:38:59.667523Z",
     "iopub.status.busy": "2024-11-27T09:38:59.667093Z",
     "iopub.status.idle": "2024-11-27T09:39:00.452784Z",
     "shell.execute_reply": "2024-11-27T09:39:00.451113Z"
    },
    "papermill": {
     "duration": 0.79577,
     "end_time": "2024-11-27T09:39:00.455425",
     "exception": false,
     "start_time": "2024-11-27T09:38:59.659655",
     "status": "completed"
    },
    "tags": []
   },
   "outputs": [],
   "source": [
    "# Aylık satışları hesapla\n",
    "sales_train['item_cnt_day'] = sales_train['item_cnt_day'].clip(0, 20)  # Outlier'ları düzelt\n",
    "monthly_sales = sales_train.groupby(['date_block_num', 'shop_id', 'item_id'], as_index=False).agg({\n",
    "    'item_cnt_day': 'sum'\n",
    "}).rename(columns={'item_cnt_day': 'item_cnt_month'})"
   ]
  },
  {
   "cell_type": "code",
   "execution_count": 8,
   "id": "5901c7f1",
   "metadata": {
    "execution": {
     "iopub.execute_input": "2024-11-27T09:39:00.474034Z",
     "iopub.status.busy": "2024-11-27T09:39:00.471879Z",
     "iopub.status.idle": "2024-11-27T09:39:00.531348Z",
     "shell.execute_reply": "2024-11-27T09:39:00.530211Z"
    },
    "papermill": {
     "duration": 0.071446,
     "end_time": "2024-11-27T09:39:00.534075",
     "exception": false,
     "start_time": "2024-11-27T09:39:00.462629",
     "status": "completed"
    },
    "tags": []
   },
   "outputs": [],
   "source": [
    "# Test veri setiyle uyumlu hale getirmek için shop_id ve item_id'leri düzenle\n",
    "test['date_block_num'] = 34  # Tahmin yapmak istediğimiz ay\n",
    "merged_data = pd.concat([monthly_sales, test], axis=0, ignore_index=True).fillna(0)"
   ]
  },
  {
   "cell_type": "code",
   "execution_count": 9,
   "id": "67ae7b3c",
   "metadata": {
    "execution": {
     "iopub.execute_input": "2024-11-27T09:39:00.548915Z",
     "iopub.status.busy": "2024-11-27T09:39:00.548532Z",
     "iopub.status.idle": "2024-11-27T09:39:01.343819Z",
     "shell.execute_reply": "2024-11-27T09:39:01.342737Z"
    },
    "papermill": {
     "duration": 0.805541,
     "end_time": "2024-11-27T09:39:01.346362",
     "exception": false,
     "start_time": "2024-11-27T09:39:00.540821",
     "status": "completed"
    },
    "tags": []
   },
   "outputs": [],
   "source": [
    "# Veri setlerini birleştir\n",
    "merged_data = merged_data.merge(items, on='item_id', how='left')\n",
    "merged_data = merged_data.merge(item_categories, on='item_category_id', how='left')\n",
    "merged_data = merged_data.merge(shops, on='shop_id', how='left')\n"
   ]
  },
  {
   "cell_type": "code",
   "execution_count": 10,
   "id": "329f0739",
   "metadata": {
    "execution": {
     "iopub.execute_input": "2024-11-27T09:39:01.360702Z",
     "iopub.status.busy": "2024-11-27T09:39:01.360315Z",
     "iopub.status.idle": "2024-11-27T09:39:01.365951Z",
     "shell.execute_reply": "2024-11-27T09:39:01.364937Z"
    },
    "papermill": {
     "duration": 0.015192,
     "end_time": "2024-11-27T09:39:01.368186",
     "exception": false,
     "start_time": "2024-11-27T09:39:01.352994",
     "status": "completed"
    },
    "tags": []
   },
   "outputs": [
    {
     "name": "stdout",
     "output_type": "stream",
     "text": [
      "['date_block_num', 'shop_id', 'item_id', 'item_cnt_month', 'ID', 'item_name', 'item_category_id', 'item_category_name', 'shop_name']\n"
     ]
    }
   ],
   "source": [
    "print(merged_data.columns.tolist())\n"
   ]
  },
  {
   "cell_type": "code",
   "execution_count": 11,
   "id": "12b7671c",
   "metadata": {
    "execution": {
     "iopub.execute_input": "2024-11-27T09:39:01.382573Z",
     "iopub.status.busy": "2024-11-27T09:39:01.382203Z",
     "iopub.status.idle": "2024-11-27T09:39:01.387877Z",
     "shell.execute_reply": "2024-11-27T09:39:01.386771Z"
    },
    "papermill": {
     "duration": 0.015609,
     "end_time": "2024-11-27T09:39:01.390302",
     "exception": false,
     "start_time": "2024-11-27T09:39:01.374693",
     "status": "completed"
    },
    "tags": []
   },
   "outputs": [],
   "source": [
    "if 'item_category_id' not in merged_data.columns:\n",
    "    merged_data['item_category_id'] = -1  # Varsayılan değer\n",
    "if 'item_cnt_month' not in merged_data.columns:\n",
    "    merged_data['item_cnt_month'] = 0.0  # Varsayılan değer\n"
   ]
  },
  {
   "cell_type": "code",
   "execution_count": 12,
   "id": "969a2321",
   "metadata": {
    "execution": {
     "iopub.execute_input": "2024-11-27T09:39:01.405370Z",
     "iopub.status.busy": "2024-11-27T09:39:01.404918Z",
     "iopub.status.idle": "2024-11-27T09:39:01.410843Z",
     "shell.execute_reply": "2024-11-27T09:39:01.409545Z"
    },
    "papermill": {
     "duration": 0.016541,
     "end_time": "2024-11-27T09:39:01.413196",
     "exception": false,
     "start_time": "2024-11-27T09:39:01.396655",
     "status": "completed"
    },
    "tags": []
   },
   "outputs": [
    {
     "name": "stdout",
     "output_type": "stream",
     "text": [
      "['date_block_num', 'shop_id', 'item_id', 'item_cnt_month', 'ID', 'item_name', 'item_category_id', 'item_category_name', 'shop_name']\n"
     ]
    }
   ],
   "source": [
    "print(merged_data.columns.tolist())"
   ]
  },
  {
   "cell_type": "code",
   "execution_count": 13,
   "id": "1d7bb01c",
   "metadata": {
    "execution": {
     "iopub.execute_input": "2024-11-27T09:39:01.428907Z",
     "iopub.status.busy": "2024-11-27T09:39:01.428502Z",
     "iopub.status.idle": "2024-11-27T09:39:01.449281Z",
     "shell.execute_reply": "2024-11-27T09:39:01.448073Z"
    },
    "papermill": {
     "duration": 0.031406,
     "end_time": "2024-11-27T09:39:01.452077",
     "exception": false,
     "start_time": "2024-11-27T09:39:01.420671",
     "status": "completed"
    },
    "tags": []
   },
   "outputs": [],
   "source": [
    "# Veri türlerini küçült\n",
    "merged_data['date_block_num'] = merged_data['date_block_num'].astype('int8')\n",
    "merged_data['shop_id'] = merged_data['shop_id'].astype('int8')\n",
    "merged_data['item_id'] = merged_data['item_id'].astype('int16')\n",
    "merged_data['item_category_id'] = merged_data['item_category_id'].astype('int8')\n",
    "merged_data['item_cnt_month'] = merged_data['item_cnt_month'].astype('float32')"
   ]
  },
  {
   "cell_type": "code",
   "execution_count": 14,
   "id": "91a7bea2",
   "metadata": {
    "execution": {
     "iopub.execute_input": "2024-11-27T09:39:01.468622Z",
     "iopub.status.busy": "2024-11-27T09:39:01.468226Z",
     "iopub.status.idle": "2024-11-27T09:39:01.505555Z",
     "shell.execute_reply": "2024-11-27T09:39:01.504469Z"
    },
    "papermill": {
     "duration": 0.047518,
     "end_time": "2024-11-27T09:39:01.508027",
     "exception": false,
     "start_time": "2024-11-27T09:39:01.460509",
     "status": "completed"
    },
    "tags": []
   },
   "outputs": [],
   "source": [
    "# Alt küme oluşturma: Örneğin, yalnızca item_category_id == 40\n",
    "filtered_data = merged_data[merged_data['item_category_id'] == 40]"
   ]
  },
  {
   "cell_type": "code",
   "execution_count": 15,
   "id": "4e913eb3",
   "metadata": {
    "execution": {
     "iopub.execute_input": "2024-11-27T09:39:01.523361Z",
     "iopub.status.busy": "2024-11-27T09:39:01.522940Z",
     "iopub.status.idle": "2024-11-27T09:39:01.556183Z",
     "shell.execute_reply": "2024-11-27T09:39:01.554867Z"
    },
    "papermill": {
     "duration": 0.043541,
     "end_time": "2024-11-27T09:39:01.558584",
     "exception": false,
     "start_time": "2024-11-27T09:39:01.515043",
     "status": "completed"
    },
    "tags": []
   },
   "outputs": [],
   "source": [
    "# Veri setini yeniden eğitim ve test setlerine ayır\n",
    "train_data = filtered_data[filtered_data['date_block_num'] < 33]\n",
    "validation_data = filtered_data[filtered_data['date_block_num'] == 33]\n",
    "test_data = filtered_data[filtered_data['date_block_num'] == 34]"
   ]
  },
  {
   "cell_type": "code",
   "execution_count": 16,
   "id": "87e40f37",
   "metadata": {
    "execution": {
     "iopub.execute_input": "2024-11-27T09:39:01.573094Z",
     "iopub.status.busy": "2024-11-27T09:39:01.572699Z",
     "iopub.status.idle": "2024-11-27T09:39:01.585895Z",
     "shell.execute_reply": "2024-11-27T09:39:01.584798Z"
    },
    "papermill": {
     "duration": 0.023191,
     "end_time": "2024-11-27T09:39:01.588304",
     "exception": false,
     "start_time": "2024-11-27T09:39:01.565113",
     "status": "completed"
    },
    "tags": []
   },
   "outputs": [],
   "source": [
    "# Modelleme için bağımlı ve bağımsız değişkenleri seç\n",
    "X_train = train_data[['date_block_num', 'shop_id', 'item_id', 'item_category_id']]\n",
    "y_train = train_data['item_cnt_month']\n",
    "\n",
    "X_valid = validation_data[['date_block_num', 'shop_id', 'item_id', 'item_category_id']]\n",
    "y_valid = validation_data['item_cnt_month']\n",
    "\n",
    "X_test = test_data[['date_block_num', 'shop_id', 'item_id', 'item_category_id']]"
   ]
  },
  {
   "cell_type": "code",
   "execution_count": 17,
   "id": "7a6a8f3f",
   "metadata": {
    "execution": {
     "iopub.execute_input": "2024-11-27T09:39:01.602986Z",
     "iopub.status.busy": "2024-11-27T09:39:01.602579Z",
     "iopub.status.idle": "2024-11-27T09:39:01.607785Z",
     "shell.execute_reply": "2024-11-27T09:39:01.606764Z"
    },
    "papermill": {
     "duration": 0.015203,
     "end_time": "2024-11-27T09:39:01.610044",
     "exception": false,
     "start_time": "2024-11-27T09:39:01.594841",
     "status": "completed"
    },
    "tags": []
   },
   "outputs": [],
   "source": [
    "from sklearn.linear_model import LinearRegression\n"
   ]
  },
  {
   "cell_type": "code",
   "execution_count": 18,
   "id": "b5ca3c59",
   "metadata": {
    "execution": {
     "iopub.execute_input": "2024-11-27T09:39:01.624692Z",
     "iopub.status.busy": "2024-11-27T09:39:01.624271Z",
     "iopub.status.idle": "2024-11-27T09:39:01.630799Z",
     "shell.execute_reply": "2024-11-27T09:39:01.629456Z"
    },
    "papermill": {
     "duration": 0.016826,
     "end_time": "2024-11-27T09:39:01.633190",
     "exception": false,
     "start_time": "2024-11-27T09:39:01.616364",
     "status": "completed"
    },
    "tags": []
   },
   "outputs": [
    {
     "name": "stdout",
     "output_type": "stream",
     "text": [
      "X_train shape: (331355, 4)\n",
      "y_train shape: (331355,)\n"
     ]
    }
   ],
   "source": [
    "print(\"X_train shape:\", X_train.shape)\n",
    "print(\"y_train shape:\", y_train.shape)\n"
   ]
  },
  {
   "cell_type": "code",
   "execution_count": 19,
   "id": "66742fc2",
   "metadata": {
    "execution": {
     "iopub.execute_input": "2024-11-27T09:39:01.647755Z",
     "iopub.status.busy": "2024-11-27T09:39:01.647326Z",
     "iopub.status.idle": "2024-11-27T09:39:01.655060Z",
     "shell.execute_reply": "2024-11-27T09:39:01.653958Z"
    },
    "papermill": {
     "duration": 0.017737,
     "end_time": "2024-11-27T09:39:01.657439",
     "exception": false,
     "start_time": "2024-11-27T09:39:01.639702",
     "status": "completed"
    },
    "tags": []
   },
   "outputs": [],
   "source": [
    "# Örnek veri seti\n",
    "import pandas as pd\n",
    "\n",
    "# Veri seti\n",
    "data = pd.DataFrame({\n",
    "    'feature1': [1, 2, 3, 4, 5],\n",
    "    'feature2': [10, 20, 30, 40, 50],\n",
    "    'target': [100, 200, 300, 400, 500]\n",
    "})\n",
    "\n",
    "# X ve y tanımlama\n",
    "X = data[['feature1', 'feature2']]  # Özellik sütunları\n",
    "y = data['target']  # Hedef sütunu\n"
   ]
  },
  {
   "cell_type": "code",
   "execution_count": 20,
   "id": "430c4c98",
   "metadata": {
    "execution": {
     "iopub.execute_input": "2024-11-27T09:39:01.672101Z",
     "iopub.status.busy": "2024-11-27T09:39:01.671691Z",
     "iopub.status.idle": "2024-11-27T09:39:01.682461Z",
     "shell.execute_reply": "2024-11-27T09:39:01.681195Z"
    },
    "papermill": {
     "duration": 0.021102,
     "end_time": "2024-11-27T09:39:01.684903",
     "exception": false,
     "start_time": "2024-11-27T09:39:01.663801",
     "status": "completed"
    },
    "tags": []
   },
   "outputs": [
    {
     "name": "stdout",
     "output_type": "stream",
     "text": [
      "   feature1  feature2  target\n",
      "0         1        10     100\n",
      "1         2        20     200\n",
      "2         3        30     300\n",
      "3         4        40     400\n",
      "4         5        50     500\n"
     ]
    }
   ],
   "source": [
    "print(data.head())  # Veri setinin ilk 5 satırını görüntüle\n"
   ]
  },
  {
   "cell_type": "code",
   "execution_count": 21,
   "id": "3a8c4aa5",
   "metadata": {
    "execution": {
     "iopub.execute_input": "2024-11-27T09:39:01.699615Z",
     "iopub.status.busy": "2024-11-27T09:39:01.699207Z",
     "iopub.status.idle": "2024-11-27T09:39:01.705310Z",
     "shell.execute_reply": "2024-11-27T09:39:01.703936Z"
    },
    "papermill": {
     "duration": 0.016751,
     "end_time": "2024-11-27T09:39:01.708212",
     "exception": false,
     "start_time": "2024-11-27T09:39:01.691461",
     "status": "completed"
    },
    "tags": []
   },
   "outputs": [
    {
     "name": "stdout",
     "output_type": "stream",
     "text": [
      "X shape: (5, 2)\n",
      "y shape: (5,)\n"
     ]
    }
   ],
   "source": [
    "print(\"X shape:\", X.shape)\n",
    "print(\"y shape:\", y.shape)\n"
   ]
  },
  {
   "cell_type": "code",
   "execution_count": 22,
   "id": "250e51ae",
   "metadata": {
    "execution": {
     "iopub.execute_input": "2024-11-27T09:39:01.723621Z",
     "iopub.status.busy": "2024-11-27T09:39:01.723173Z",
     "iopub.status.idle": "2024-11-27T09:39:01.734598Z",
     "shell.execute_reply": "2024-11-27T09:39:01.733368Z"
    },
    "papermill": {
     "duration": 0.022374,
     "end_time": "2024-11-27T09:39:01.737203",
     "exception": false,
     "start_time": "2024-11-27T09:39:01.714829",
     "status": "completed"
    },
    "tags": []
   },
   "outputs": [],
   "source": [
    "from sklearn.model_selection import train_test_split\n",
    "\n",
    "X_train, X_test, y_train, y_test = train_test_split(X, y, test_size=0.2, random_state=42)\n"
   ]
  },
  {
   "cell_type": "code",
   "execution_count": 23,
   "id": "dbc21f93",
   "metadata": {
    "execution": {
     "iopub.execute_input": "2024-11-27T09:39:01.751926Z",
     "iopub.status.busy": "2024-11-27T09:39:01.751428Z",
     "iopub.status.idle": "2024-11-27T09:39:01.790948Z",
     "shell.execute_reply": "2024-11-27T09:39:01.789408Z"
    },
    "papermill": {
     "duration": 0.050013,
     "end_time": "2024-11-27T09:39:01.793788",
     "exception": false,
     "start_time": "2024-11-27T09:39:01.743775",
     "status": "completed"
    },
    "tags": []
   },
   "outputs": [
    {
     "name": "stdout",
     "output_type": "stream",
     "text": [
      "Predictions: [200.]\n"
     ]
    }
   ],
   "source": [
    "import pandas as pd\n",
    "from sklearn.linear_model import LinearRegression\n",
    "from sklearn.model_selection import train_test_split\n",
    "\n",
    "# Veri seti\n",
    "data = pd.DataFrame({\n",
    "    'feature1': [1, 2, 3, 4, 5],\n",
    "    'feature2': [10, 20, 30, 40, 50],\n",
    "    'target': [100, 200, 300, 400, 500]\n",
    "})\n",
    "\n",
    "# X ve y tanımlama\n",
    "X = data[['feature1', 'feature2']]\n",
    "y = data['target']\n",
    "\n",
    "# Eğitim ve test verisine ayırma\n",
    "X_train, X_test, y_train, y_test = train_test_split(X, y, test_size=0.2, random_state=42)\n",
    "\n",
    "# Model oluşturma ve eğitme\n",
    "linear_regressor = LinearRegression()\n",
    "linear_regressor.fit(X_train, y_train)\n",
    "\n",
    "# Tahmin yapma\n",
    "predictions = linear_regressor.predict(X_test)\n",
    "print(\"Predictions:\", predictions)\n"
   ]
  },
  {
   "cell_type": "code",
   "execution_count": 24,
   "id": "92aafbb6",
   "metadata": {
    "execution": {
     "iopub.execute_input": "2024-11-27T09:39:01.809870Z",
     "iopub.status.busy": "2024-11-27T09:39:01.809031Z",
     "iopub.status.idle": "2024-11-27T09:39:01.815220Z",
     "shell.execute_reply": "2024-11-27T09:39:01.814065Z"
    },
    "papermill": {
     "duration": 0.016039,
     "end_time": "2024-11-27T09:39:01.817293",
     "exception": false,
     "start_time": "2024-11-27T09:39:01.801254",
     "status": "completed"
    },
    "tags": []
   },
   "outputs": [
    {
     "name": "stdout",
     "output_type": "stream",
     "text": [
      "Predictions: [200.]\n"
     ]
    }
   ],
   "source": [
    "print(\"Predictions:\", predictions)\n"
   ]
  },
  {
   "cell_type": "code",
   "execution_count": 25,
   "id": "52abc2fc",
   "metadata": {
    "execution": {
     "iopub.execute_input": "2024-11-27T09:39:01.832776Z",
     "iopub.status.busy": "2024-11-27T09:39:01.832404Z",
     "iopub.status.idle": "2024-11-27T09:39:01.838951Z",
     "shell.execute_reply": "2024-11-27T09:39:01.837237Z"
    },
    "papermill": {
     "duration": 0.017628,
     "end_time": "2024-11-27T09:39:01.841545",
     "exception": false,
     "start_time": "2024-11-27T09:39:01.823917",
     "status": "completed"
    },
    "tags": []
   },
   "outputs": [
    {
     "name": "stdout",
     "output_type": "stream",
     "text": [
      "Sample 1: 199.9999999999999\n"
     ]
    }
   ],
   "source": [
    "for i, pred in enumerate(predictions):\n",
    "    print(f\"Sample {i+1}: {pred}\")\n"
   ]
  },
  {
   "cell_type": "code",
   "execution_count": 26,
   "id": "63ab4754",
   "metadata": {
    "execution": {
     "iopub.execute_input": "2024-11-27T09:39:01.857560Z",
     "iopub.status.busy": "2024-11-27T09:39:01.857128Z",
     "iopub.status.idle": "2024-11-27T09:39:01.866031Z",
     "shell.execute_reply": "2024-11-27T09:39:01.864756Z"
    },
    "papermill": {
     "duration": 0.019741,
     "end_time": "2024-11-27T09:39:01.868633",
     "exception": false,
     "start_time": "2024-11-27T09:39:01.848892",
     "status": "completed"
    },
    "tags": []
   },
   "outputs": [
    {
     "name": "stdout",
     "output_type": "stream",
     "text": [
      "   Actual  Predicted\n",
      "1     200      200.0\n"
     ]
    }
   ],
   "source": [
    "import pandas as pd\n",
    "\n",
    "# Tahminleri ve gerçek değerleri birleştir\n",
    "results = pd.DataFrame({\n",
    "    \"Actual\": y_test,\n",
    "    \"Predicted\": predictions\n",
    "})\n",
    "\n",
    "print(results)\n"
   ]
  },
  {
   "cell_type": "code",
   "execution_count": 27,
   "id": "5eab8453",
   "metadata": {
    "execution": {
     "iopub.execute_input": "2024-11-27T09:39:01.885357Z",
     "iopub.status.busy": "2024-11-27T09:39:01.884910Z",
     "iopub.status.idle": "2024-11-27T09:39:02.201982Z",
     "shell.execute_reply": "2024-11-27T09:39:02.200911Z"
    },
    "papermill": {
     "duration": 0.328065,
     "end_time": "2024-11-27T09:39:02.204506",
     "exception": false,
     "start_time": "2024-11-27T09:39:01.876441",
     "status": "completed"
    },
    "tags": []
   },
   "outputs": [
    {
     "data": {
      "image/png": "[encoded data removed]",
      "text/plain": [
       "<Figure size 640x480 with 1 Axes>"
      ]
     },
     "metadata": {},
     "output_type": "display_data"
    }
   ],
   "source": [
    "import matplotlib.pyplot as plt\n",
    "\n",
    "# Gerçek ve tahmin edilen değerleri çiz\n",
    "plt.plot(y_test.values, label=\"Actual\", marker='o')\n",
    "plt.plot(predictions, label=\"Predicted\", marker='x')\n",
    "plt.legend()\n",
    "plt.title(\"Actual vs Predicted\")\n",
    "plt.xlabel(\"Samples\")\n",
    "plt.ylabel(\"Values\")\n",
    "plt.show()\n"
   ]
  },
  {
   "cell_type": "code",
   "execution_count": 28,
   "id": "5e7226f1",
   "metadata": {
    "execution": {
     "iopub.execute_input": "2024-11-27T09:39:02.220709Z",
     "iopub.status.busy": "2024-11-27T09:39:02.220264Z",
     "iopub.status.idle": "2024-11-27T09:39:02.229737Z",
     "shell.execute_reply": "2024-11-27T09:39:02.228487Z"
    },
    "papermill": {
     "duration": 0.020641,
     "end_time": "2024-11-27T09:39:02.232289",
     "exception": false,
     "start_time": "2024-11-27T09:39:02.211648",
     "status": "completed"
    },
    "tags": []
   },
   "outputs": [
    {
     "name": "stdout",
     "output_type": "stream",
     "text": [
      "Predictions saved to predictions.csv\n"
     ]
    }
   ],
   "source": [
    "results.to_csv(\"predictions.csv\", index=False)\n",
    "print(\"Predictions saved to predictions.csv\")\n"
   ]
  },
  {
   "cell_type": "code",
   "execution_count": 29,
   "id": "f9d5c8e7",
   "metadata": {
    "execution": {
     "iopub.execute_input": "2024-11-27T09:39:02.250752Z",
     "iopub.status.busy": "2024-11-27T09:39:02.249170Z",
     "iopub.status.idle": "2024-11-27T09:39:02.259769Z",
     "shell.execute_reply": "2024-11-27T09:39:02.258346Z"
    },
    "papermill": {
     "duration": 0.021856,
     "end_time": "2024-11-27T09:39:02.262127",
     "exception": false,
     "start_time": "2024-11-27T09:39:02.240271",
     "status": "completed"
    },
    "tags": []
   },
   "outputs": [
    {
     "name": "stdout",
     "output_type": "stream",
     "text": [
      "Prediction for new data: [150.4950495]\n"
     ]
    },
    {
     "name": "stderr",
     "output_type": "stream",
     "text": [
      "/opt/conda/lib/python3.10/site-packages/sklearn/base.py:439: UserWarning: X does not have valid feature names, but LinearRegression was fitted with feature names\n",
      "  warnings.warn(\n"
     ]
    }
   ],
   "source": [
    "new_data = [[2, 15]]  # Örnek: Yeni bir veri seti\n",
    "single_prediction = linear_regressor.predict(new_data)\n",
    "print(\"Prediction for new data:\", single_prediction)\n"
   ]
  },
  {
   "cell_type": "code",
   "execution_count": null,
   "id": "e81c3c8c",
   "metadata": {
    "papermill": {
     "duration": 0.007028,
     "end_time": "2024-11-27T09:39:02.276581",
     "exception": false,
     "start_time": "2024-11-27T09:39:02.269553",
     "status": "completed"
    },
    "tags": []
   },
   "outputs": [],
   "source": []
  }
 ],
 "metadata": {
  "kaggle": {
   "accelerator": "none",
   "dataSources": [
    {
     "datasetId": 1921704,
     "isSourceIdPinned": false,
     "sourceId": 3159178,
     "sourceType": "datasetVersion"
    }
   ],
   "dockerImageVersionId": 30786,
   "isGpuEnabled": false,
   "isInternetEnabled": false,
   "language": "python",
   "sourceType": "notebook"
  },
  "kernelspec": {
   "display_name": "Python 3",
   "language": "python",
   "name": "python3"
  },
  "language_info": {
   "codemirror_mode": {
    "name": "ipython",
    "version": 3
   },
   "file_extension": ".py",
   "mimetype": "text/x-python",
   "name": "python",
   "nbconvert_exporter": "python",
   "pygments_lexer": "ipython3",
   "version": "3.10.14"
  },
  "papermill": {
   "default_parameters": {},
   "duration": 13.758291,
   "end_time": "2024-11-27T09:39:03.007732",
   "environment_variables": {},
   "exception": null,
   "input_path": "__notebook__.ipynb",
   "output_path": "__notebook__.ipynb",
   "parameters": {},
   "start_time": "2024-11-27T09:38:49.249441",
   "version": "2.6.0"
  }
 },
 "nbformat": 4,
 "nbformat_minor": 5
}
